{
  "cells": [
    {
      "metadata": {},
      "cell_type": "markdown",
      "source": "# Coronavirus disease 2019 (COVID-19) Data Analysis using Python."
    },
    {
      "metadata": {
        "trusted": true
      },
      "cell_type": "code",
      "source": "# Import needed libraries\nimport pandas as pd\nimport chart_studio.plotly as py\nimport plotly.graph_objects as go",
      "execution_count": null,
      "outputs": []
    },
    {
      "metadata": {
        "trusted": true
      },
      "cell_type": "code",
      "source": "#data source\ndfConfirmedWorldwide =  pd.read_csv(r'https://raw.githubusercontent.com/CSSEGISandData/COVID-19/master/csse_covid_19_data/csse_covid_19_time_series/time_series_covid19_confirmed_global.csv')\ndfDeathsWorldwide = pd.read_csv(r'https://raw.githubusercontent.com/CSSEGISandData/COVID-19/master/csse_covid_19_data/csse_covid_19_time_series/time_series_covid19_deaths_global.csv')\ndfRecoveredWorldwide = pd.read_csv(r'https://raw.githubusercontent.com/CSSEGISandData/COVID-19/master/csse_covid_19_data/csse_covid_19_time_series/time_series_covid19_recovered_global.csv')",
      "execution_count": null,
      "outputs": []
    },
    {
      "metadata": {
        "trusted": true
      },
      "cell_type": "code",
      "source": "#Drop columns\ndfConfirmedWorldwide.drop(columns=['Lat','Long'], inplace = True)\ndfDeathsWorldwide.drop(columns=['Lat','Long'], inplace = True)\ndfRecoveredWorldwide.drop(columns=['Lat','Long'], inplace = True)",
      "execution_count": null,
      "outputs": []
    },
    {
      "metadata": {
        "trusted": true
      },
      "cell_type": "code",
      "source": "#Set the Dataframe index\ndfConfirmedWorldwide = dfConfirmedWorldwide.set_index(\"Country/Region\")\ndfDeathsWorldwide = dfDeathsWorldwide.set_index(\"Country/Region\")\ndfRecoveredWorldwide = dfRecoveredWorldwide.set_index(\"Country/Region\")",
      "execution_count": null,
      "outputs": []
    },
    {
      "metadata": {
        "trusted": true
      },
      "cell_type": "code",
      "source": "#Total Confirmed Cases Top 10 Country\ndfConfirmedTop10Countries= dfConfirmedWorldwide.nlargest(10,[dfConfirmedWorldwide.columns[-1]])\ndfConfirmedTop10Countries = dfConfirmedTop10Countries[dfConfirmedTop10Countries.columns[-30:]]",
      "execution_count": null,
      "outputs": []
    },
    {
      "metadata": {
        "trusted": true
      },
      "cell_type": "code",
      "source": "#Denmark's total confirmed cases\ndfConfirmedDenmark = dfConfirmedWorldwide.loc['Denmark']\ndfConfirmedDenmark = dfConfirmedDenmark.nlargest(1,[dfConfirmedDenmark.columns[-1]])",
      "execution_count": null,
      "outputs": []
    },
    {
      "metadata": {
        "trusted": true
      },
      "cell_type": "code",
      "source": "#Denmark's total deaths\ndfDeathsDenmark = dfDeathsWorldwide.loc['Denmark']\ndfDeathsDenmark = dfDeathsDenmark.nlargest(1,[dfDeathsDenmark.columns[-1]])",
      "execution_count": null,
      "outputs": []
    },
    {
      "metadata": {
        "trusted": true
      },
      "cell_type": "code",
      "source": "#Worldwide Total Confirmed Cases\nfig1 = go.Indicator(\n    mode = \"number+delta\",\n    value = dfConfirmedWorldwide.sum()[-1],\n    delta = {'position': \"bottom\", 'reference': dfConfirmedWorldwide.sum()[-2],\n            'increasing':{'color':'red'},\n            'decreasing':{'color':'green'}},\n    title = {'text': \"Total Confirmed Cases\"},\n    domain = {'x': [0, 0.5], 'y': [0.5,1]})\n\n\n#Worldwide Total Deaths\nfig2 = go.Indicator(\n    mode = \"number+delta\",\n    value = dfDeathsWorldwide.sum()[-1],\n    delta = {'position': \"bottom\", 'reference': dfDeathsWorldwide.sum()[-2],\n            'increasing':{'color':'red'},\n            'decreasing':{'color':'green'}},\n    title = {'text': \"Total Deaths\"},\n    domain = {'x': [0.5, 1], 'y': [0.5,1]})\n\n\n#Denmark's Total Confirmed cases\nfig3 = go.Indicator(\n    mode = \"number+delta\",\n    value = dfConfirmedDenmark.sum()[-1],\n    delta = {'position': \"bottom\", 'reference': dfConfirmedDenmark.sum()[-2],\n            'increasing':{'color':'red'},\n            'decreasing':{'color':'green'}},\n    title = {'text': \"Denmark Confirmed Cases\"},\n    domain = {'x': [0, 0.5], 'y': [0,0.4]})\n\n#Denmark's Deaths\nfig4 = go.Indicator(\n    mode = \"number+delta\",\n    value = dfDeathsDenmark.sum()[-1],\n    delta = {'position': \"bottom\", 'reference': dfDeathsDenmark.sum()[-2],\n            'increasing':{'color':'red'},\n            'decreasing':{'color':'green'}},\n    title = {'text': \"Denmark Deaths\"},\n    domain = {'x': [0.5, 1], 'y': [0,0.4]})\n\ndata = [fig1, fig2, fig3, fig4]\nlayout = dict(title='Worldwide and Denmark',paper_bgcolor='lightgray')\n\n#when working in a Jupyter Notebook to display the plot in the notebook.\npy.iplot(dict(data=data, layout=layout))\n\n#to return the unique url and optionally open the url.\n#py.plot(data, filename = 'Indicator', auto_open=True) \n",
      "execution_count": null,
      "outputs": []
    },
    {
      "metadata": {
        "trusted": true
      },
      "cell_type": "code",
      "source": "#Total Confirmed Cases Top 10 Countries\ndfConfirmedTop10Countries",
      "execution_count": null,
      "outputs": []
    },
    {
      "metadata": {
        "trusted": true
      },
      "cell_type": "code",
      "source": "#Denmark's total confirmed cases\ndfDKconfirmed_deathsData= pd.concat([dfConfirmedDenmark, dfDeathsDenmark])\ndfDKconfirmed_deathsData = dfDKconfirmed_deathsData[dfDKconfirmed_deathsData.columns[-30:]]",
      "execution_count": null,
      "outputs": []
    },
    {
      "metadata": {
        "trusted": true
      },
      "cell_type": "code",
      "source": "#Denmark - Cumulative confirmed cases and deaths\ntrace01 = go.Scatter(\n    x = dfConfirmedDenmark.columns[-30:],\n    y = dfConfirmedDenmark.iloc[0][-30:], name = 'Confirmed Cases')\n\ntrace02 = go.Scatter(\n    x = dfDeathsDenmark.columns[-30:],\n    y = dfDeathsDenmark.iloc[0][-30:], name = 'Deaths')\n\nlayout = dict(title='Denmark - Cumulative confirmed cases and deaths',paper_bgcolor='lightgray')\ndata = [trace01, trace02]\n\npy.iplot(dict(data=data, layout=layout))",
      "execution_count": null,
      "outputs": []
    },
    {
      "metadata": {
        "trusted": true
      },
      "cell_type": "code",
      "source": "#Denmark - Cumulative confirmed cases and deaths\ndfDKconfirmed_deathsData",
      "execution_count": null,
      "outputs": []
    }
  ],
  "metadata": {
    "kernelspec": {
      "name": "python36",
      "display_name": "Python 3.6",
      "language": "python"
    },
    "language_info": {
      "mimetype": "text/x-python",
      "nbconvert_exporter": "python",
      "name": "python",
      "pygments_lexer": "ipython3",
      "version": "3.6.6",
      "file_extension": ".py",
      "codemirror_mode": {
        "version": 3,
        "name": "ipython"
      }
    }
  },
  "nbformat": 4,
  "nbformat_minor": 2
}