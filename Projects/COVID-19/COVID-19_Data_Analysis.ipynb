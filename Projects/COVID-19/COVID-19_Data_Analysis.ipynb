{
  "cells": [
    {
      "metadata": {},
      "cell_type": "markdown",
      "source": "# Coronavirus disease 2019 (COVID-19) Data Analysis using Python."
    },
    {
      "metadata": {
        "trusted": true
      },
      "cell_type": "code",
      "source": "# Import needed libraries\nimport pandas as pd\nimport chart_studio.plotly as py\nimport plotly.graph_objects as go",
      "execution_count": 1,
      "outputs": []
    },
    {
      "metadata": {
        "trusted": true
      },
      "cell_type": "code",
      "source": "#data source\ndfConfirmedWorldwide =  pd.read_csv(r'https://raw.githubusercontent.com/CSSEGISandData/COVID-19/master/csse_covid_19_data/csse_covid_19_time_series/time_series_covid19_confirmed_global.csv')\ndfDeathsWorldwide = pd.read_csv(r'https://raw.githubusercontent.com/CSSEGISandData/COVID-19/master/csse_covid_19_data/csse_covid_19_time_series/time_series_covid19_deaths_global.csv')\ndfRecoveredWorldwide = pd.read_csv(r'https://raw.githubusercontent.com/CSSEGISandData/COVID-19/master/csse_covid_19_data/csse_covid_19_time_series/time_series_covid19_recovered_global.csv')",
      "execution_count": 2,
      "outputs": []
    },
    {
      "metadata": {
        "trusted": true
      },
      "cell_type": "code",
      "source": "dfConfirmedWorldwide.drop(columns=['Lat','Long'], inplace = True)\ndfDeathsWorldwide.drop(columns=['Lat','Long'], inplace = True)\ndfRecoveredWorldwide.drop(columns=['Lat','Long'], inplace = True)",
      "execution_count": 3,
      "outputs": []
    },
    {
      "metadata": {
        "trusted": true
      },
      "cell_type": "code",
      "source": "dfConfirmedWorldwide = dfConfirmedWorldwide.set_index(\"Country/Region\")\ndfDeathsWorldwide = dfDeathsWorldwide.set_index(\"Country/Region\")\ndfRecoveredWorldwide = dfRecoveredWorldwide.set_index(\"Country/Region\")",
      "execution_count": 4,
      "outputs": []
    },
    {
      "metadata": {
        "trusted": true
      },
      "cell_type": "code",
      "source": "#Total Confirmed Cases Top 10 Country\ndfConfirmedTop10Countries= dfConfirmedWorldwide.nlargest(10,[dfConfirmedWorldwide.columns[-1]])\ndfConfirmedTop10Countries = dfConfirmedTop10Countries[dfConfirmedTop10Countries.columns[-30:]]",
      "execution_count": 5,
      "outputs": []
    },
    {
      "metadata": {
        "trusted": true
      },
      "cell_type": "code",
      "source": "#Denmark's total confirmed cases\ndfConfirmedDenmark = dfConfirmedWorldwide.loc['Denmark']\ndfConfirmedDenmark = dfConfirmedDenmark.nlargest(1,[dfConfirmedDenmark.columns[-1]])",
      "execution_count": 6,
      "outputs": []
    },
    {
      "metadata": {
        "trusted": true
      },
      "cell_type": "code",
      "source": "#Denmark's total deaths\ndfDeathsDenmark = dfDeathsWorldwide.loc['Denmark']\ndfDeathsDenmark = dfDeathsDenmark.nlargest(1,[dfDeathsDenmark.columns[-1]])",
      "execution_count": 7,
      "outputs": []
    },
    {
      "metadata": {
        "trusted": true
      },
      "cell_type": "code",
      "source": "#Worldwide Total Confirmed Cases\nfig1 = go.Indicator(\n    mode = \"number+delta\",\n    value = dfConfirmedWorldwide.sum()[-1],\n    delta = {'position': \"bottom\", 'reference': dfConfirmedWorldwide.sum()[-2],\n            'increasing':{'color':'red'},\n            'decreasing':{'color':'green'}},\n    title = {'text': \"Total Confirmed Cases\"},\n    domain = {'x': [0, 0.5], 'y': [0.5,1]})\n\n\n#Worldwide Total Deaths\nfig2 = go.Indicator(\n    mode = \"number+delta\",\n    value = dfDeathsWorldwide.sum()[-1],\n    delta = {'position': \"bottom\", 'reference': dfDeathsWorldwide.sum()[-2],\n            'increasing':{'color':'red'},\n            'decreasing':{'color':'green'}},\n    title = {'text': \"Total Deaths\"},\n    domain = {'x': [0.5, 1], 'y': [0.5,1]})\n\n\n#Denmark's Total Confirmed cases\nfig3 = go.Indicator(\n    mode = \"number+delta\",\n    value = dfConfirmedDenmark.sum()[-1],\n    delta = {'position': \"bottom\", 'reference': dfConfirmedDenmark.sum()[-2],\n            'increasing':{'color':'red'},\n            'decreasing':{'color':'green'}},\n    title = {'text': \"Denmark Confirmed Cases\"},\n    domain = {'x': [0, 0.5], 'y': [0,0.4]})\n\n#Denmark's Deaths\nfig4 = go.Indicator(\n    mode = \"number+delta\",\n    value = dfDeathsDenmark.sum()[-1],\n    delta = {'position': \"bottom\", 'reference': dfDeathsDenmark.sum()[-2],\n            'increasing':{'color':'red'},\n            'decreasing':{'color':'green'}},\n    title = {'text': \"Denmark Deaths\"},\n    domain = {'x': [0.5, 1], 'y': [0,0.4]})\n\ndata = [fig1, fig2, fig3, fig4]\nlayout = dict(title='Worldwide and Denmark',paper_bgcolor='lightgray')\n\npy.iplot(dict(data=data, layout=layout)) #when working in a Jupyter Notebook to display the plot in the notebook.\n#py.plot(data, filename = 'Indicator', auto_open=True) #to return the unique url and optionally open the url.\n",
      "execution_count": 8,
      "outputs": [
        {
          "output_type": "execute_result",
          "execution_count": 8,
          "data": {
            "text/html": "\n        <iframe\n            width=\"100%\"\n            height=\"525px\"\n            src=\"https://plotly.com/~pradstha/19.embed\"\n            frameborder=\"0\"\n            allowfullscreen\n        ></iframe>\n        ",
            "text/plain": "<IPython.lib.display.IFrame at 0x7fdd3d5252e8>"
          },
          "metadata": {}
        }
      ]
    },
    {
      "metadata": {
        "trusted": true
      },
      "cell_type": "code",
      "source": "#Total Confirmed Cases Top 10 Countries\ndfConfirmedTop10Countries",
      "execution_count": 9,
      "outputs": [
        {
          "output_type": "execute_result",
          "execution_count": 9,
          "data": {
            "text/html": "<div>\n<style scoped>\n    .dataframe tbody tr th:only-of-type {\n        vertical-align: middle;\n    }\n\n    .dataframe tbody tr th {\n        vertical-align: top;\n    }\n\n    .dataframe thead th {\n        text-align: right;\n    }\n</style>\n<table border=\"1\" class=\"dataframe\">\n  <thead>\n    <tr style=\"text-align: right;\">\n      <th></th>\n      <th>3/28/20</th>\n      <th>3/29/20</th>\n      <th>3/30/20</th>\n      <th>3/31/20</th>\n      <th>4/1/20</th>\n      <th>4/2/20</th>\n      <th>4/3/20</th>\n      <th>4/4/20</th>\n      <th>4/5/20</th>\n      <th>4/6/20</th>\n      <th>...</th>\n      <th>4/17/20</th>\n      <th>4/18/20</th>\n      <th>4/19/20</th>\n      <th>4/20/20</th>\n      <th>4/21/20</th>\n      <th>4/22/20</th>\n      <th>4/23/20</th>\n      <th>4/24/20</th>\n      <th>4/25/20</th>\n      <th>4/26/20</th>\n    </tr>\n    <tr>\n      <th>Country/Region</th>\n      <th></th>\n      <th></th>\n      <th></th>\n      <th></th>\n      <th></th>\n      <th></th>\n      <th></th>\n      <th></th>\n      <th></th>\n      <th></th>\n      <th></th>\n      <th></th>\n      <th></th>\n      <th></th>\n      <th></th>\n      <th></th>\n      <th></th>\n      <th></th>\n      <th></th>\n      <th></th>\n      <th></th>\n    </tr>\n  </thead>\n  <tbody>\n    <tr>\n      <th>US</th>\n      <td>121465</td>\n      <td>140909</td>\n      <td>161831</td>\n      <td>188172</td>\n      <td>213242</td>\n      <td>243622</td>\n      <td>275367</td>\n      <td>308650</td>\n      <td>336802</td>\n      <td>366317</td>\n      <td>...</td>\n      <td>699706</td>\n      <td>732197</td>\n      <td>758809</td>\n      <td>784326</td>\n      <td>811865</td>\n      <td>840351</td>\n      <td>869170</td>\n      <td>905358</td>\n      <td>938154</td>\n      <td>965785</td>\n    </tr>\n    <tr>\n      <th>Spain</th>\n      <td>73235</td>\n      <td>80110</td>\n      <td>87956</td>\n      <td>95923</td>\n      <td>104118</td>\n      <td>112065</td>\n      <td>119199</td>\n      <td>126168</td>\n      <td>131646</td>\n      <td>136675</td>\n      <td>...</td>\n      <td>190839</td>\n      <td>191726</td>\n      <td>198674</td>\n      <td>200210</td>\n      <td>204178</td>\n      <td>208389</td>\n      <td>213024</td>\n      <td>219764</td>\n      <td>223759</td>\n      <td>226629</td>\n    </tr>\n    <tr>\n      <th>Italy</th>\n      <td>92472</td>\n      <td>97689</td>\n      <td>101739</td>\n      <td>105792</td>\n      <td>110574</td>\n      <td>115242</td>\n      <td>119827</td>\n      <td>124632</td>\n      <td>128948</td>\n      <td>132547</td>\n      <td>...</td>\n      <td>172434</td>\n      <td>175925</td>\n      <td>178972</td>\n      <td>181228</td>\n      <td>183957</td>\n      <td>187327</td>\n      <td>189973</td>\n      <td>192994</td>\n      <td>195351</td>\n      <td>197675</td>\n    </tr>\n    <tr>\n      <th>France</th>\n      <td>37575</td>\n      <td>40174</td>\n      <td>44550</td>\n      <td>52128</td>\n      <td>56989</td>\n      <td>59105</td>\n      <td>64338</td>\n      <td>68605</td>\n      <td>70478</td>\n      <td>74390</td>\n      <td>...</td>\n      <td>146923</td>\n      <td>146906</td>\n      <td>151808</td>\n      <td>154188</td>\n      <td>156921</td>\n      <td>154715</td>\n      <td>157026</td>\n      <td>158636</td>\n      <td>160292</td>\n      <td>160847</td>\n    </tr>\n    <tr>\n      <th>Germany</th>\n      <td>57695</td>\n      <td>62095</td>\n      <td>66885</td>\n      <td>71808</td>\n      <td>77872</td>\n      <td>84794</td>\n      <td>91159</td>\n      <td>96092</td>\n      <td>100123</td>\n      <td>103374</td>\n      <td>...</td>\n      <td>141397</td>\n      <td>143342</td>\n      <td>145184</td>\n      <td>147065</td>\n      <td>148291</td>\n      <td>150648</td>\n      <td>153129</td>\n      <td>154999</td>\n      <td>156513</td>\n      <td>157770</td>\n    </tr>\n    <tr>\n      <th>United Kingdom</th>\n      <td>17089</td>\n      <td>19522</td>\n      <td>22141</td>\n      <td>25150</td>\n      <td>29474</td>\n      <td>33718</td>\n      <td>38168</td>\n      <td>41903</td>\n      <td>47806</td>\n      <td>51608</td>\n      <td>...</td>\n      <td>108692</td>\n      <td>114217</td>\n      <td>120067</td>\n      <td>124743</td>\n      <td>129044</td>\n      <td>133495</td>\n      <td>138078</td>\n      <td>143464</td>\n      <td>148377</td>\n      <td>152840</td>\n    </tr>\n    <tr>\n      <th>Turkey</th>\n      <td>7402</td>\n      <td>9217</td>\n      <td>10827</td>\n      <td>13531</td>\n      <td>15679</td>\n      <td>18135</td>\n      <td>20921</td>\n      <td>23934</td>\n      <td>27069</td>\n      <td>30217</td>\n      <td>...</td>\n      <td>78546</td>\n      <td>82329</td>\n      <td>86306</td>\n      <td>90980</td>\n      <td>95591</td>\n      <td>98674</td>\n      <td>101790</td>\n      <td>104912</td>\n      <td>107773</td>\n      <td>110130</td>\n    </tr>\n    <tr>\n      <th>Iran</th>\n      <td>35408</td>\n      <td>38309</td>\n      <td>41495</td>\n      <td>44605</td>\n      <td>47593</td>\n      <td>50468</td>\n      <td>53183</td>\n      <td>55743</td>\n      <td>58226</td>\n      <td>60500</td>\n      <td>...</td>\n      <td>79494</td>\n      <td>80868</td>\n      <td>82211</td>\n      <td>83505</td>\n      <td>84802</td>\n      <td>85996</td>\n      <td>87026</td>\n      <td>88194</td>\n      <td>89328</td>\n      <td>90481</td>\n    </tr>\n    <tr>\n      <th>Russia</th>\n      <td>1264</td>\n      <td>1534</td>\n      <td>1836</td>\n      <td>2337</td>\n      <td>2777</td>\n      <td>3548</td>\n      <td>4149</td>\n      <td>4731</td>\n      <td>5389</td>\n      <td>6343</td>\n      <td>...</td>\n      <td>32008</td>\n      <td>36793</td>\n      <td>42853</td>\n      <td>47121</td>\n      <td>52763</td>\n      <td>57999</td>\n      <td>62773</td>\n      <td>68622</td>\n      <td>74588</td>\n      <td>80949</td>\n    </tr>\n    <tr>\n      <th>China</th>\n      <td>67801</td>\n      <td>67801</td>\n      <td>67801</td>\n      <td>67801</td>\n      <td>67802</td>\n      <td>67802</td>\n      <td>67802</td>\n      <td>67803</td>\n      <td>67803</td>\n      <td>67803</td>\n      <td>...</td>\n      <td>68128</td>\n      <td>68128</td>\n      <td>68128</td>\n      <td>68128</td>\n      <td>68128</td>\n      <td>68128</td>\n      <td>68128</td>\n      <td>68128</td>\n      <td>68128</td>\n      <td>68128</td>\n    </tr>\n  </tbody>\n</table>\n<p>10 rows × 30 columns</p>\n</div>",
            "text/plain": "                3/28/20  3/29/20  3/30/20  3/31/20  4/1/20  4/2/20  4/3/20  \\\nCountry/Region                                                               \nUS               121465   140909   161831   188172  213242  243622  275367   \nSpain             73235    80110    87956    95923  104118  112065  119199   \nItaly             92472    97689   101739   105792  110574  115242  119827   \nFrance            37575    40174    44550    52128   56989   59105   64338   \nGermany           57695    62095    66885    71808   77872   84794   91159   \nUnited Kingdom    17089    19522    22141    25150   29474   33718   38168   \nTurkey             7402     9217    10827    13531   15679   18135   20921   \nIran              35408    38309    41495    44605   47593   50468   53183   \nRussia             1264     1534     1836     2337    2777    3548    4149   \nChina             67801    67801    67801    67801   67802   67802   67802   \n\n                4/4/20  4/5/20  4/6/20   ...     4/17/20  4/18/20  4/19/20  \\\nCountry/Region                           ...                                 \nUS              308650  336802  366317   ...      699706   732197   758809   \nSpain           126168  131646  136675   ...      190839   191726   198674   \nItaly           124632  128948  132547   ...      172434   175925   178972   \nFrance           68605   70478   74390   ...      146923   146906   151808   \nGermany          96092  100123  103374   ...      141397   143342   145184   \nUnited Kingdom   41903   47806   51608   ...      108692   114217   120067   \nTurkey           23934   27069   30217   ...       78546    82329    86306   \nIran             55743   58226   60500   ...       79494    80868    82211   \nRussia            4731    5389    6343   ...       32008    36793    42853   \nChina            67803   67803   67803   ...       68128    68128    68128   \n\n                4/20/20  4/21/20  4/22/20  4/23/20  4/24/20  4/25/20  4/26/20  \nCountry/Region                                                                 \nUS               784326   811865   840351   869170   905358   938154   965785  \nSpain            200210   204178   208389   213024   219764   223759   226629  \nItaly            181228   183957   187327   189973   192994   195351   197675  \nFrance           154188   156921   154715   157026   158636   160292   160847  \nGermany          147065   148291   150648   153129   154999   156513   157770  \nUnited Kingdom   124743   129044   133495   138078   143464   148377   152840  \nTurkey            90980    95591    98674   101790   104912   107773   110130  \nIran              83505    84802    85996    87026    88194    89328    90481  \nRussia            47121    52763    57999    62773    68622    74588    80949  \nChina             68128    68128    68128    68128    68128    68128    68128  \n\n[10 rows x 30 columns]"
          },
          "metadata": {}
        }
      ]
    },
    {
      "metadata": {
        "trusted": true
      },
      "cell_type": "code",
      "source": "#Denmark's total confirmed cases\ndfDKconfirmed_deathsData= pd.concat([dfConfirmedDenmark, dfDeathsDenmark])\ndfDKconfirmed_deathsData = dfDKconfirmed_deathsData[dfDKconfirmed_deathsData.columns[-30:]]",
      "execution_count": 10,
      "outputs": []
    },
    {
      "metadata": {
        "trusted": true
      },
      "cell_type": "code",
      "source": "#Denmark - Cumulative confirmed cases and deaths\ntrace01 = go.Scatter(\n    x = dfConfirmedDenmark.columns[-30:],\n    y = dfConfirmedDenmark.iloc[0][-30:], name = 'Confirmed Cases')\n\ntrace02 = go.Scatter(\n    x = dfDeathsDenmark.columns[-30:],\n    y = dfDeathsDenmark.iloc[0][-30:], name = 'Deaths')\n\nlayout = dict(title='Denmark - Cumulative confirmed cases and deaths',paper_bgcolor='lightgray')\ndata = [trace01, trace02]\n\npy.iplot(dict(data=data, layout=layout))",
      "execution_count": 11,
      "outputs": [
        {
          "output_type": "execute_result",
          "execution_count": 11,
          "data": {
            "text/html": "\n        <iframe\n            width=\"100%\"\n            height=\"525px\"\n            src=\"https://plotly.com/~pradstha/21.embed\"\n            frameborder=\"0\"\n            allowfullscreen\n        ></iframe>\n        ",
            "text/plain": "<IPython.lib.display.IFrame at 0x7fdd3cd0ea20>"
          },
          "metadata": {}
        }
      ]
    },
    {
      "metadata": {
        "trusted": true
      },
      "cell_type": "code",
      "source": "#Denmark - Cumulative confirmed cases and deaths\ndfDKconfirmed_deathsData",
      "execution_count": 12,
      "outputs": [
        {
          "output_type": "execute_result",
          "execution_count": 12,
          "data": {
            "text/html": "<div>\n<style scoped>\n    .dataframe tbody tr th:only-of-type {\n        vertical-align: middle;\n    }\n\n    .dataframe tbody tr th {\n        vertical-align: top;\n    }\n\n    .dataframe thead th {\n        text-align: right;\n    }\n</style>\n<table border=\"1\" class=\"dataframe\">\n  <thead>\n    <tr style=\"text-align: right;\">\n      <th></th>\n      <th>3/28/20</th>\n      <th>3/29/20</th>\n      <th>3/30/20</th>\n      <th>3/31/20</th>\n      <th>4/1/20</th>\n      <th>4/2/20</th>\n      <th>4/3/20</th>\n      <th>4/4/20</th>\n      <th>4/5/20</th>\n      <th>4/6/20</th>\n      <th>...</th>\n      <th>4/17/20</th>\n      <th>4/18/20</th>\n      <th>4/19/20</th>\n      <th>4/20/20</th>\n      <th>4/21/20</th>\n      <th>4/22/20</th>\n      <th>4/23/20</th>\n      <th>4/24/20</th>\n      <th>4/25/20</th>\n      <th>4/26/20</th>\n    </tr>\n    <tr>\n      <th>Country/Region</th>\n      <th></th>\n      <th></th>\n      <th></th>\n      <th></th>\n      <th></th>\n      <th></th>\n      <th></th>\n      <th></th>\n      <th></th>\n      <th></th>\n      <th></th>\n      <th></th>\n      <th></th>\n      <th></th>\n      <th></th>\n      <th></th>\n      <th></th>\n      <th></th>\n      <th></th>\n      <th></th>\n      <th></th>\n    </tr>\n  </thead>\n  <tbody>\n    <tr>\n      <th>Denmark</th>\n      <td>2201</td>\n      <td>2395</td>\n      <td>2577</td>\n      <td>2860</td>\n      <td>3107</td>\n      <td>3386</td>\n      <td>3757</td>\n      <td>4077</td>\n      <td>4369</td>\n      <td>4681</td>\n      <td>...</td>\n      <td>7073</td>\n      <td>7242</td>\n      <td>7384</td>\n      <td>7515</td>\n      <td>7695</td>\n      <td>7912</td>\n      <td>8073</td>\n      <td>8210</td>\n      <td>8445</td>\n      <td>8575</td>\n    </tr>\n    <tr>\n      <th>Denmark</th>\n      <td>65</td>\n      <td>72</td>\n      <td>77</td>\n      <td>90</td>\n      <td>104</td>\n      <td>123</td>\n      <td>139</td>\n      <td>161</td>\n      <td>179</td>\n      <td>187</td>\n      <td>...</td>\n      <td>336</td>\n      <td>346</td>\n      <td>355</td>\n      <td>364</td>\n      <td>370</td>\n      <td>384</td>\n      <td>394</td>\n      <td>403</td>\n      <td>418</td>\n      <td>422</td>\n    </tr>\n  </tbody>\n</table>\n<p>2 rows × 30 columns</p>\n</div>",
            "text/plain": "                3/28/20  3/29/20  3/30/20  3/31/20  4/1/20  4/2/20  4/3/20  \\\nCountry/Region                                                               \nDenmark            2201     2395     2577     2860    3107    3386    3757   \nDenmark              65       72       77       90     104     123     139   \n\n                4/4/20  4/5/20  4/6/20   ...     4/17/20  4/18/20  4/19/20  \\\nCountry/Region                           ...                                 \nDenmark           4077    4369    4681   ...        7073     7242     7384   \nDenmark            161     179     187   ...         336      346      355   \n\n                4/20/20  4/21/20  4/22/20  4/23/20  4/24/20  4/25/20  4/26/20  \nCountry/Region                                                                 \nDenmark            7515     7695     7912     8073     8210     8445     8575  \nDenmark             364      370      384      394      403      418      422  \n\n[2 rows x 30 columns]"
          },
          "metadata": {}
        }
      ]
    },
    {
      "metadata": {
        "trusted": true
      },
      "cell_type": "code",
      "source": "",
      "execution_count": null,
      "outputs": []
    }
  ],
  "metadata": {
    "kernelspec": {
      "name": "python36",
      "display_name": "Python 3.6",
      "language": "python"
    },
    "language_info": {
      "mimetype": "text/x-python",
      "nbconvert_exporter": "python",
      "name": "python",
      "pygments_lexer": "ipython3",
      "version": "3.6.6",
      "file_extension": ".py",
      "codemirror_mode": {
        "version": 3,
        "name": "ipython"
      }
    }
  },
  "nbformat": 4,
  "nbformat_minor": 2
}